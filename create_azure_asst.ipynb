{
 "cells": [
  {
   "cell_type": "code",
   "execution_count": null,
   "metadata": {},
   "outputs": [],
   "source": [
    "from openai import OpenAI, AzureOpenAI\n",
    "import json\n",
    "import os\n",
    "from dotenv import load_dotenv\n",
    "load_dotenv()\n",
    "OPENAI_API_KEY = os.getenv(\"OPENAI_API_KEY\")\n",
    "AZURE_API_KEY = os.getenv(\"AZURE_API_KEY\")\n",
    "AZURE_ENDPOINT = os.getenv(\"AZURE_ENDPOINT\")\n",
    "AZURE_OPENAI_VERSION=os.getenv(\"AZURE_OPENAI_VERSION\")\n",
    "client=OpenAI(api_key=OPENAI_API_KEY)\n",
    "aclient=AzureOpenAI(api_key=AZURE_API_KEY, azure_endpoint=AZURE_ENDPOINT, api_version=AZURE_OPENAI_VERSION)"
   ]
  },
  {
   "cell_type": "code",
   "execution_count": null,
   "metadata": {},
   "outputs": [],
   "source": [
    "import csv\n",
    "assistants = []\n",
    "# read assistants in from assistants.csv\n",
    "with open('assistants.csv', 'r') as f:\n",
    "  reader = csv.DictReader(f)\n",
    "  for row in reader:\n",
    "      print(row['assistant_id'], row['name'])\n",
    "      assistants.append(row)"
   ]
  },
  {
   "cell_type": "code",
   "execution_count": null,
   "metadata": {},
   "outputs": [],
   "source": [
    "for row in assistants:\n",
    "    print(row['assistant_id'], row['name'])"
   ]
  },
  {
   "cell_type": "code",
   "execution_count": null,
   "metadata": {},
   "outputs": [],
   "source": [
    "oassistant=client.beta.assistants.retrieve(assistants[0]['assistant_id'])"
   ]
  },
  {
   "cell_type": "code",
   "execution_count": null,
   "metadata": {},
   "outputs": [],
   "source": [
    "print(oassistant.tool_resources.file_search.vector_store_ids)\n",
    "vector_store_files=client.beta.vector_stores.files.list(oassistant.tool_resources.file_search.vector_store_ids[0])\n",
    "print(vector_store_files)"
   ]
  },
  {
   "cell_type": "code",
   "execution_count": null,
   "metadata": {},
   "outputs": [],
   "source": [
    "#manually set assistants\n",
    "# assistants=[{'assistant_id':\"asst_OVshFbXYzcx2DOpSVlUb8T0H\", 'name':\"Article analysis bot\"}]"
   ]
  },
  {
   "cell_type": "code",
   "execution_count": null,
   "metadata": {},
   "outputs": [],
   "source": [
    "import pprint\n",
    "for assistant in assistants:\n",
    "\n",
    "    oassistant=client.beta.assistants.retrieve(assistant['assistant_id'])\n",
    "    print(oassistant.id)\n",
    "    print(oassistant.name)\n",
    "    print(oassistant.model)\n",
    "    print(oassistant.instructions[:100])\n",
    "    print(oassistant.tools)\n",
    "    print(oassistant.tool_resources)\n",
    "    vector_store_files=client.beta.vector_stores.files.list(oassistant.tool_resources.file_search.vector_store_ids[0])\n",
    "    print(\"-----------------\")"
   ]
  },
  {
   "cell_type": "code",
   "execution_count": null,
   "metadata": {},
   "outputs": [],
   "source": [
    "#write to azure\n",
    "for assistant in assistants:\n",
    "    oassistant=client.beta.assistants.retrieve(assistant['assistant_id'])\n",
    "    aassistant=aclient.beta.assistants.create(\n",
    "        instructions=oassistant.instructions,\n",
    "        name=oassistant.name,\n",
    "        # tools=oassistant.tools,\n",
    "        model=\"gpt-4o\"\n",
    "    )\n",
    "    print(aassistant.id)\n",
    "    print(aassistant)\n",
    "    input(\"Press Enter to continue...\")"
   ]
  },
  {
   "cell_type": "code",
   "execution_count": null,
   "metadata": {},
   "outputs": [],
   "source": [
    "new_assistant=[]\n",
    "azure_list=aclient.beta.assistants.list()\n",
    "for assistant in azure_list:\n",
    "    print(assistant.id)\n",
    "    print(assistant.name)\n",
    "    print(assistant.model)\n",
    "    print(assistant.instructions[:100])\n",
    "    print(assistant.tools)\n",
    "    print(\"-----------------\")\n",
    "    new_assistant.append({\"assistant_id\":assistant.id, \"name\":assistant.name})"
   ]
  },
  {
   "cell_type": "code",
   "execution_count": null,
   "metadata": {},
   "outputs": [],
   "source": [
    "for assistant in new_assistant:\n",
    "    print(assistant['assistant_id'], assistant['name'])"
   ]
  },
  {
   "cell_type": "code",
   "execution_count": null,
   "metadata": {},
   "outputs": [],
   "source": [
    "# iterate through new_assistant and write to csv if name contains \"Study\n",
    "with open('azure_assistants.csv', 'w', newline='') as f:\n",
    "    fieldnames = ['assistant_id', 'name']\n",
    "    writer = csv.DictWriter(f, fieldnames=fieldnames)\n",
    "    writer.writeheader()\n",
    "    for assistant in new_assistant:\n",
    "        if \"Study\" in assistant['name']:\n",
    "            writer.writerow(assistant)\n",
    "            print(assistant['assistant_id'], assistant['name'])\n",
    "            print"
   ]
  },
  {
   "cell_type": "code",
   "execution_count": null,
   "metadata": {},
   "outputs": [],
   "source": [
    "print(new_assistant[0])"
   ]
  },
  {
   "cell_type": "code",
   "execution_count": null,
   "metadata": {},
   "outputs": [],
   "source": []
  }
 ],
 "metadata": {
  "kernelspec": {
   "display_name": "venv_gradio_openai_assistant",
   "language": "python",
   "name": "python3"
  },
  "language_info": {
   "codemirror_mode": {
    "name": "ipython",
    "version": 3
   },
   "file_extension": ".py",
   "mimetype": "text/x-python",
   "name": "python",
   "nbconvert_exporter": "python",
   "pygments_lexer": "ipython3",
   "version": "3.12.1"
  }
 },
 "nbformat": 4,
 "nbformat_minor": 2
}
